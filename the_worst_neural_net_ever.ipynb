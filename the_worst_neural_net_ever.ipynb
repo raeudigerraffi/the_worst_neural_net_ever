{
 "cells": [
  {
   "cell_type": "code",
   "execution_count": null,
   "metadata": {},
   "outputs": [],
   "source": [
    "import numpy as np\n",
    "import pandas as pd\n",
    "import matplotlib.pyplot as plt\n",
    "from scipy.io import loadmat\n",
    "%matplotlib inline"
   ]
  },
  {
   "cell_type": "code",
   "execution_count": null,
   "metadata": {},
   "outputs": [],
   "source": [
    "from sklearn.preprocessing import OneHotEncoder\n",
    "data = loadmat(r\"C:\\Users\\raffa\\Documents\\Raffael\\Programmieren ML\\ipython-notebooks-master\\data\\ex3data1.mat\")\n",
    "encoder = OneHotEncoder(sparse=False)\n"
   ]
  },
  {
   "cell_type": "code",
   "execution_count": null,
   "metadata": {},
   "outputs": [],
   "source": [
    "X = data[\"X\"]\n",
    "y = data[\"y\"]\n",
    "y_onehot = encoder.fit_transform(y)\n",
    "y_onehot.shape"
   ]
  },
  {
   "cell_type": "code",
   "execution_count": null,
   "metadata": {},
   "outputs": [],
   "source": [
    "def sigmoid(z):\n",
    "    \n",
    "    return 1/(1 + np.exp(-z))"
   ]
  },
  {
   "cell_type": "code",
   "execution_count": null,
   "metadata": {},
   "outputs": [],
   "source": [
    "def softmax(X):\n",
    "    \n",
    "    for x in range(X.shape[0]):\n",
    "        new = np.divide(np.exp(X[x]), np.sum(np.exp(X[x])))\n",
    "        X[x] = new\n",
    "    return X"
   ]
  },
  {
   "cell_type": "code",
   "execution_count": null,
   "metadata": {},
   "outputs": [],
   "source": [
    "def forward_propagation(theta1,theta2,x):\n",
    "\n",
    "    m = x.shape[0]\n",
    "    a1 = np.insert(X, 0, values=np.ones(m), axis=1)\n",
    "    z1 = np.dot(a1, theta1)\n",
    "    a2 =  np.insert(sigmoid(z1), 0, values=np.ones(m), axis=1)\n",
    "    z2 = np.dot(a2 ,theta2 )\n",
    "    h = softmax(z2)\n",
    "    \n",
    "    return h"
   ]
  },
  {
   "cell_type": "code",
   "execution_count": null,
   "metadata": {},
   "outputs": [],
   "source": [
    "def input_vector(theta1,theta2,x):\n",
    "    \n",
    "    m = x.shape[0]\n",
    "    a1 = np.insert(X, 0, values=np.ones(m), axis=1)\n",
    "    z1 = np.dot(a1, theta1)\n",
    "    a2 =  np.insert(sigmoid(z1), 0, values=np.ones(m), axis=1)\n",
    "    z2 = np.dot(a2 ,theta2 )\n",
    "    h = softmax(z2)\n",
    "    \n",
    "\n",
    "    return a1,a2"
   ]
  },
  {
   "cell_type": "code",
   "execution_count": null,
   "metadata": {},
   "outputs": [],
   "source": [
    "theta1 = np.random.rand(X.shape[1]+1,25)\n",
    "theta2 = np.random.rand(theta1.shape[1]+1,10)"
   ]
  },
  {
   "cell_type": "code",
   "execution_count": null,
   "metadata": {},
   "outputs": [],
   "source": [
    "theta1.shape, theta2.shape"
   ]
  },
  {
   "cell_type": "code",
   "execution_count": null,
   "metadata": {},
   "outputs": [],
   "source": [
    "prediction = forward_propagation(theta1,theta2,X)"
   ]
  },
  {
   "cell_type": "code",
   "execution_count": null,
   "metadata": {},
   "outputs": [],
   "source": [
    "def cost(Y,h):\n",
    "    class1_cost = -Y * np.log(h)\n",
    "    class2_cost = (1-Y) * np.log(1-h)\n",
    "    cost = class1_cost -class2_cost\n",
    "    cost = cost.sum() / Y.shape[0]\n",
    "    return cost\n",
    "    "
   ]
  },
  {
   "cell_type": "code",
   "execution_count": null,
   "metadata": {},
   "outputs": [],
   "source": [
    "cost(y_onehot,prediction)"
   ]
  },
  {
   "cell_type": "code",
   "execution_count": null,
   "metadata": {},
   "outputs": [],
   "source": [
    "def cost_vector(Y,h):\n",
    "    #class1_cost = -Y * np.log(h)\n",
    "    #class2_cost = (1-Y) * np.log(1-h)\n",
    "    #cost = class1_cost -class2_cost\n",
    "    \n",
    "    cost = h - Y\n",
    "    return cost"
   ]
  },
  {
   "cell_type": "code",
   "execution_count": null,
   "metadata": {},
   "outputs": [],
   "source": [
    "def update_weights(theta1,theta2,prediction,x,y,alpha):\n",
    "\n",
    "    a1, a2 = input_vector(theta1,theta2,x)\n",
    "\n",
    "    cost = prediction - y\n",
    "    dw2 = np.dot(a2.T, cost)/y.shape[0]\n",
    "    new_t2 = np.delete(theta2, (0), axis=0)\n",
    "    dw1 = np.dot(a1.T, np.dot(prediction-y_onehot, new_t2.T))/y.shape[0]\n",
    "\n",
    "    theta2[0]  -= dw2[0]\n",
    "    theta2[1:len(theta2)] -= dw2[1:len(theta2)] + alpha * theta2[1:len(theta2)]\n",
    "    theta1[0] -= dw1[0]\n",
    "    theta1[1:len(theta1)] -= dw1[1:len(theta1)] + alpha * theta1[1:len(theta1)]\n",
    "\n",
    "    ##ursprüngliche funktion zum adjusten der weights\n",
    "    \n",
    "    \n",
    "    "
   ]
  },
  {
   "cell_type": "code",
   "execution_count": null,
   "metadata": {},
   "outputs": [],
   "source": [
    "def train(iters,x,y_onehot,theta1,theta2, alpha):\n",
    "    \n",
    "    \n",
    "    for w in range(iters):\n",
    "        prediction = forward_propagation(theta1,theta2,X)\n",
    "        cost_func = cost(y_onehot, prediction)\n",
    "        #update_weights(cost_vector(y_onehot,prediction),theta1,theta2,prediction,x,y, alpha)\n",
    "        update_weights(theta1,theta2,prediction,X,y_onehot, 0.01)\n",
    "        if w % 5 == 0 :\n",
    "            print(\"loss: \" +str(cost_func))\n",
    "    \n",
    "    \n",
    "    \n",
    "    \n",
    "    \n",
    "    "
   ]
  },
  {
   "cell_type": "code",
   "execution_count": null,
   "metadata": {},
   "outputs": [],
   "source": [
    "train(260,X,y_onehot,theta1,theta2, 20)"
   ]
  },
  {
   "cell_type": "code",
   "execution_count": null,
   "metadata": {},
   "outputs": [],
   "source": [
    "prediction =forward_propagation(theta1,theta2,X)\n",
    "b = np.zeros_like(prediction)\n",
    "b[np.arange(len(prediction)), prediction.argmax(1)] = 1\n",
    "count= 0 \n",
    "for x in range(len(b)):\n",
    "    if (b[x] ==  y_onehot[x]).all():\n",
    "        count +=1\n",
    "    \n",
    "print(\"accuracy \" + str(count/len(b)))"
   ]
  }
 ],
 "metadata": {
  "kernelspec": {
   "display_name": "Python 3",
   "language": "python",
   "name": "python3"
  },
  "language_info": {
   "codemirror_mode": {
    "name": "ipython",
    "version": 3
   },
   "file_extension": ".py",
   "mimetype": "text/x-python",
   "name": "python",
   "nbconvert_exporter": "python",
   "pygments_lexer": "ipython3",
   "version": "3.7.1"
  }
 },
 "nbformat": 4,
 "nbformat_minor": 2
}
